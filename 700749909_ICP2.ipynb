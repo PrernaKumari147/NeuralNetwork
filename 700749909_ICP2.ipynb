{
  "nbformat": 4,
  "nbformat_minor": 0,
  "metadata": {
    "colab": {
      "provenance": [],
      "authorship_tag": "ABX9TyNXxdQnJhGp3xqmund1nfPY",
      "include_colab_link": true
    },
    "kernelspec": {
      "name": "python3",
      "display_name": "Python 3"
    },
    "language_info": {
      "name": "python"
    }
  },
  "cells": [
    {
      "cell_type": "markdown",
      "metadata": {
        "id": "view-in-github",
        "colab_type": "text"
      },
      "source": [
        "<a href=\"https://colab.research.google.com/github/PrernaKumari147/NeuralNetwork/blob/main/700749909_ICP2.ipynb\" target=\"_parent\"><img src=\"https://colab.research.google.com/assets/colab-badge.svg\" alt=\"Open In Colab\"/></a>"
      ]
    },
    {
      "cell_type": "markdown",
      "source": [
        "Prerna Kumari\n",
        "\n",
        "700749909\n"
      ],
      "metadata": {
        "id": "Us8G6fUUKwdn"
      }
    },
    {
      "cell_type": "markdown",
      "source": [
        "1.Create a class Employee and then do the following:                                     \n"
      ],
      "metadata": {
        "id": "8fXofWx7L5Z0"
      }
    },
    {
      "cell_type": "markdown",
      "source": [
        "\n",
        "• Create a data member to count the number of Employees\n",
        "\n",
        "• Create a constructor to initialize name, family, salary, department\n",
        "\n",
        "• Create a function to average salary\n",
        "\n",
        "• Create a Fulltime Employee class and it should inherit the properties of Employee class\n",
        "\n",
        "• Create the instances of Fulltime Employee class and Employee class and call their member functions."
      ],
      "metadata": {
        "id": "Z06fbnuIMgc4"
      }
    },
    {
      "cell_type": "code",
      "execution_count": 6,
      "metadata": {
        "colab": {
          "base_uri": "https://localhost:8080/"
        },
        "id": "2EDXbfClIIpf",
        "outputId": "c03d0328-42de-425d-f567-f1369404f885"
      },
      "outputs": [
        {
          "output_type": "stream",
          "name": "stdout",
          "text": [
            "Average Salary for Employees: 47500.0\n",
            "Average Salary for Fulltime Employees: 33750.0\n"
          ]
        }
      ],
      "source": [
        "class Employee:\n",
        "    employee_count = 0  # Data member to count the number of Employees\n",
        "\n",
        "    def __init__(self, name, family, salary, department):\n",
        "        self.name = name\n",
        "        self.family = family\n",
        "        self.salary = salary\n",
        "        self.department = department\n",
        "        Employee.employee_count += 1\n",
        "\n",
        "    def average_salary(self, total_salary):\n",
        "        return total_salary / Employee.employee_count\n",
        "\n",
        "class FulltimeEmployee(Employee):\n",
        "    # Inheriting properties from the Employee class\n",
        "    pass\n",
        "\n",
        "# Creating instances of Employee class\n",
        "employee1 = Employee(\"Ankit\", \"Singh\", 100000, \"Manager\")\n",
        "employee2 = Employee(\"Prerna\", \"Kumari\", 90000, \"IT\")\n",
        "\n",
        "# Creating instances of FulltimeEmployee class\n",
        "fulltime_employee1 = FulltimeEmployee(\"Ankit\", \"Singh\", 75000, \"Finance\")\n",
        "fulltime_employee2 = FulltimeEmployee(\"Prerna\", \"Kumari\", 60000, \"Marketing\")\n",
        "\n",
        "# Calling member functions\n",
        "total_salary_employees = employee1.salary + employee2.salary\n",
        "average_salary_employees = employee1.average_salary(total_salary_employees)\n",
        "\n",
        "total_salary_fulltime_employees = fulltime_employee1.salary + fulltime_employee2.salary\n",
        "average_salary_fulltime_employees = fulltime_employee1.average_salary(total_salary_fulltime_employees)\n",
        "\n",
        "# Displaying results\n",
        "print(\"Average Salary for Employees:\", average_salary_employees)\n",
        "print(\"Average Salary for Fulltime Employees:\", average_salary_fulltime_employees)\n",
        "\n"
      ]
    },
    {
      "cell_type": "markdown",
      "source": [
        "2.Numpy\n"
      ],
      "metadata": {
        "id": "orWKO-eIMVys"
      }
    },
    {
      "cell_type": "markdown",
      "source": [
        "Using NumPy create random vector of size 20 having only float in the range 1-20.\n",
        "\n",
        "Then reshape the array to 4 by 5\n",
        "\n",
        "Then replace the max in each row by 0 (axis=1)\n"
      ],
      "metadata": {
        "id": "pofyiiZDMlXu"
      }
    },
    {
      "cell_type": "code",
      "source": [
        "# Import the NumPy library and alias it as 'np' for brevity and convention.\n",
        "import numpy as np\n",
        "\n",
        "# Create a random vector of size 20 with floats in the range 1-20\n",
        "random_vector = np.random.uniform(1, 20, 20)\n",
        "\n",
        "print(\"Original Random Vector:\\n\", random_vector)"
      ],
      "metadata": {
        "colab": {
          "base_uri": "https://localhost:8080/"
        },
        "id": "14V2RR9YIZ_W",
        "outputId": "d4e10929-f2a3-40bb-e621-80adf3a33a1a"
      },
      "execution_count": 27,
      "outputs": [
        {
          "output_type": "stream",
          "name": "stdout",
          "text": [
            "Original Random Vector:\n",
            " [ 3.27704775  4.78704088  1.82303598 14.46804878 15.97290304  7.89883008\n",
            "  6.82570416  2.75674058  6.36182302 18.9231247   6.43044053  1.65350136\n",
            " 14.49749719 19.33120072  5.14394167  3.16856958 15.04669495 16.12608567\n",
            "  3.83989719  2.78043491]\n"
          ]
        }
      ]
    },
    {
      "cell_type": "code",
      "source": [
        "# Reshape the array to 4 by 5 (4 rows and 5 columns)\n",
        "reshaped_array = random_vector.reshape(4, 5)\n",
        "\n",
        "print(reshaped_array)"
      ],
      "metadata": {
        "colab": {
          "base_uri": "https://localhost:8080/"
        },
        "id": "wI8zxmJNJftO",
        "outputId": "d3edcd2e-b6ed-4462-a2ea-7b1199531001"
      },
      "execution_count": 28,
      "outputs": [
        {
          "output_type": "stream",
          "name": "stdout",
          "text": [
            "[[ 3.27704775  4.78704088  1.82303598 14.46804878 15.97290304]\n",
            " [ 7.89883008  6.82570416  2.75674058  6.36182302 18.9231247 ]\n",
            " [ 6.43044053  1.65350136 14.49749719 19.33120072  5.14394167]\n",
            " [ 3.16856958 15.04669495 16.12608567  3.83989719  2.78043491]]\n"
          ]
        }
      ]
    },
    {
      "cell_type": "code",
      "source": [
        "\n",
        "# Replace the max in each row by 0 (axis=1)\n",
        "reshaped_array[np.arange(4), reshaped_array.argmax(axis=1)] = 0\n",
        "\n",
        "print(\"Reshaped Array:\\n\", reshaped_array)"
      ],
      "metadata": {
        "colab": {
          "base_uri": "https://localhost:8080/"
        },
        "id": "1Hkj08dpKmyY",
        "outputId": "8b5b3b58-4e69-488f-dad8-dd380fdada33"
      },
      "execution_count": 29,
      "outputs": [
        {
          "output_type": "stream",
          "name": "stdout",
          "text": [
            "Reshaped Array:\n",
            " [[ 3.27704775  4.78704088  1.82303598 14.46804878  0.        ]\n",
            " [ 7.89883008  6.82570416  2.75674058  6.36182302  0.        ]\n",
            " [ 6.43044053  1.65350136 14.49749719  0.          5.14394167]\n",
            " [ 3.16856958 15.04669495  0.          3.83989719  2.78043491]]\n"
          ]
        }
      ]
    }
  ]
}